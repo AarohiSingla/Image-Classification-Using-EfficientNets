{
 "cells": [
  {
   "attachments": {},
   "cell_type": "markdown",
   "metadata": {},
   "source": [
    "# Transfer Learning:\n",
    "\n",
    "In transfer learning, the knowledge of an already trained machine learning model is applied to a different but related problem. For example, if you trained a simple classifier to predict whether an image contains a watch, you could use the knowledge that the model gained during its training to recognize other objects like clock.\n",
    "\n",
    "\n",
    "#### Pre trained model as Feature Extractor\n",
    "Remove the last dense layer which is performing classification and use this pre trained model as Feature Extractor.Fixed feature extractor for the new dataset.\n",
    "\n",
    "For example, if you want to build a self learning car. You can spend years to build a decent image recognition algorithm from scratch or you can take inception model (a pre-trained model) from Google which was built on ImageNet data to identify images in those pictures.\n"
   ]
  },
  {
   "cell_type": "markdown",
   "metadata": {},
   "source": [
    "# Dataset Prepration "
   ]
  },
  {
   "cell_type": "code",
   "execution_count": 30,
   "metadata": {},
   "outputs": [
    {
     "name": "stdout",
     "output_type": "stream",
     "text": [
      "['earphone', 'headphone', 'phones']\n",
      "Types of classes labels found:  3\n",
      "     Labels                         image\n",
      "0  earphone  dataset_path/earphone/21.png\n",
      "1  earphone  dataset_path/earphone/22.png\n",
      "2  earphone  dataset_path/earphone/23.png\n",
      "3  earphone  dataset_path/earphone/24.png\n",
      "4  earphone  dataset_path/earphone/25.png\n",
      "     Labels                           image\n",
      "98   phones  dataset_path/phones/phs112.png\n",
      "99   phones  dataset_path/phones/phs123.jpg\n",
      "100  phones  dataset_path/phones/phs123.png\n",
      "101  phones  dataset_path/phones/phs157.png\n",
      "102  phones  dataset_path/phones/phs165.png\n"
     ]
    }
   ],
   "source": [
    "import numpy as np\n",
    "import tensorflow as tf\n",
    "\n",
    "import numpy as np \n",
    "import pandas as pd \n",
    "import matplotlib.pyplot as plt\n",
    "import os\n",
    "\n",
    "dataset_path = os.listdir('dataset')\n",
    "\n",
    "print (dataset_path)  #what kinds of classes are in this dataset\n",
    "\n",
    "print(\"Types of classes labels found: \", len(dataset_path))\n",
    "\n",
    "class_labels = []\n",
    "\n",
    "for item in dataset_path:\n",
    " # Get all the file names\n",
    " all_classes = os.listdir('dataset' + '/' +item)\n",
    " #print(all_classes)\n",
    "\n",
    " # Add them to the list\n",
    " for room in all_classes:\n",
    "    class_labels.append((item, str('dataset_path' + '/' +item) + '/' + room))\n",
    "    #print(class_labels[:5])\n",
    "    \n",
    "    \n",
    "# Build a dataframe        \n",
    "df = pd.DataFrame(data=class_labels, columns=['Labels', 'image'])\n",
    "print(df.head())\n",
    "print(df.tail())"
   ]
  },
  {
   "cell_type": "code",
   "execution_count": 31,
   "metadata": {},
   "outputs": [
    {
     "name": "stdout",
     "output_type": "stream",
     "text": [
      "Total number of images in the dataset:  103\n",
      "headphone    50\n",
      "phones       29\n",
      "earphone     24\n",
      "Name: Labels, dtype: int64\n"
     ]
    }
   ],
   "source": [
    "# Let's check how many samples for each category are present\n",
    "print(\"Total number of images in the dataset: \", len(df))\n",
    "\n",
    "label_count = df['Labels'].value_counts()\n",
    "print(label_count)"
   ]
  },
  {
   "cell_type": "code",
   "execution_count": 32,
   "metadata": {},
   "outputs": [],
   "source": [
    "import cv2\n",
    "path = 'dataset/'\n",
    "dataset_path = os.listdir('dataset')\n",
    "\n",
    "im_size = 224\n",
    "\n",
    "images = []\n",
    "labels = []\n",
    "\n",
    "for i in dataset_path:\n",
    "    data_path = path + str(i)  \n",
    "    filenames = [i for i in os.listdir(data_path) ]\n",
    "   \n",
    "    for f in filenames:\n",
    "        img = cv2.imread(data_path + '/' + f)\n",
    "        img = cv2.resize(img, (im_size, im_size))\n",
    "        images.append(img)\n",
    "        labels.append(i)"
   ]
  },
  {
   "cell_type": "code",
   "execution_count": 33,
   "metadata": {},
   "outputs": [
    {
     "data": {
      "text/plain": [
       "(103, 224, 224, 3)"
      ]
     },
     "execution_count": 33,
     "metadata": {},
     "output_type": "execute_result"
    }
   ],
   "source": [
    "\n",
    "#This model takes input images of shape (224, 224, 3), and the input data should range [0, 255]. \n",
    "\n",
    "images = np.array(images)\n",
    "\n",
    "images = images.astype('float32') / 255.0\n",
    "images.shape"
   ]
  },
  {
   "cell_type": "code",
   "execution_count": 34,
   "metadata": {},
   "outputs": [
    {
     "name": "stdout",
     "output_type": "stream",
     "text": [
      "['earphone' 'earphone' 'earphone' 'earphone' 'earphone' 'earphone'\n",
      " 'earphone' 'earphone' 'earphone' 'earphone' 'earphone' 'earphone'\n",
      " 'earphone' 'earphone' 'earphone' 'earphone' 'earphone' 'earphone'\n",
      " 'earphone' 'earphone' 'earphone' 'earphone' 'earphone' 'earphone'\n",
      " 'headphone' 'headphone' 'headphone' 'headphone' 'headphone' 'headphone'\n",
      " 'headphone' 'headphone' 'headphone' 'headphone' 'headphone' 'headphone'\n",
      " 'headphone' 'headphone' 'headphone' 'headphone' 'headphone' 'headphone'\n",
      " 'headphone' 'headphone' 'headphone' 'headphone' 'headphone' 'headphone'\n",
      " 'headphone' 'headphone' 'headphone' 'headphone' 'headphone' 'headphone'\n",
      " 'headphone' 'headphone' 'headphone' 'headphone' 'headphone' 'headphone'\n",
      " 'headphone' 'headphone' 'headphone' 'headphone' 'headphone' 'headphone'\n",
      " 'headphone' 'headphone' 'headphone' 'headphone' 'headphone' 'headphone'\n",
      " 'headphone' 'headphone' 'phones' 'phones' 'phones' 'phones' 'phones'\n",
      " 'phones' 'phones' 'phones' 'phones' 'phones' 'phones' 'phones' 'phones'\n",
      " 'phones' 'phones' 'phones' 'phones' 'phones' 'phones' 'phones' 'phones'\n",
      " 'phones' 'phones' 'phones' 'phones' 'phones' 'phones' 'phones' 'phones']\n",
      "[0 0 0 0 0 0 0 0 0 0 0 0 0 0 0 0 0 0 0 0 0 0 0 0 1 1 1 1 1 1 1 1 1 1 1 1 1\n",
      " 1 1 1 1 1 1 1 1 1 1 1 1 1 1 1 1 1 1 1 1 1 1 1 1 1 1 1 1 1 1 1 1 1 1 1 1 1\n",
      " 2 2 2 2 2 2 2 2 2 2 2 2 2 2 2 2 2 2 2 2 2 2 2 2 2 2 2 2 2]\n"
     ]
    }
   ],
   "source": [
    "from sklearn.preprocessing import LabelEncoder , OneHotEncoder\n",
    "y=df['Labels'].values\n",
    "print(y)\n",
    "\n",
    "y_labelencoder = LabelEncoder ()\n",
    "y = y_labelencoder.fit_transform (y)\n",
    "print (y)"
   ]
  },
  {
   "cell_type": "code",
   "execution_count": 35,
   "metadata": {},
   "outputs": [
    {
     "name": "stdout",
     "output_type": "stream",
     "text": [
      "[[1. 0. 0.]\n",
      " [1. 0. 0.]\n",
      " [1. 0. 0.]\n",
      " [1. 0. 0.]\n",
      " [1. 0. 0.]]\n",
      "[[0. 1. 0.]\n",
      " [0. 1. 0.]\n",
      " [0. 1. 0.]\n",
      " [0. 1. 0.]\n",
      " [0. 1. 0.]\n",
      " [0. 1. 0.]\n",
      " [0. 1. 0.]\n",
      " [0. 1. 0.]\n",
      " [0. 1. 0.]\n",
      " [0. 1. 0.]\n",
      " [0. 1. 0.]\n",
      " [0. 1. 0.]\n",
      " [0. 1. 0.]\n",
      " [0. 1. 0.]\n",
      " [0. 1. 0.]\n",
      " [0. 1. 0.]\n",
      " [0. 1. 0.]\n",
      " [0. 1. 0.]\n",
      " [0. 1. 0.]\n",
      " [0. 1. 0.]\n",
      " [0. 1. 0.]\n",
      " [0. 1. 0.]\n",
      " [0. 1. 0.]\n",
      " [0. 1. 0.]\n",
      " [0. 1. 0.]\n",
      " [0. 1. 0.]\n",
      " [0. 1. 0.]\n",
      " [0. 1. 0.]\n",
      " [0. 1. 0.]\n",
      " [0. 1. 0.]\n",
      " [0. 1. 0.]\n",
      " [0. 1. 0.]\n",
      " [0. 1. 0.]\n",
      " [0. 1. 0.]\n",
      " [0. 1. 0.]\n",
      " [0. 1. 0.]\n",
      " [0. 1. 0.]\n",
      " [0. 1. 0.]\n",
      " [0. 1. 0.]\n",
      " [0. 0. 1.]\n",
      " [0. 0. 1.]\n",
      " [0. 0. 1.]\n",
      " [0. 0. 1.]\n",
      " [0. 0. 1.]\n",
      " [0. 0. 1.]\n",
      " [0. 0. 1.]\n",
      " [0. 0. 1.]\n",
      " [0. 0. 1.]\n",
      " [0. 0. 1.]\n",
      " [0. 0. 1.]\n",
      " [0. 0. 1.]\n",
      " [0. 0. 1.]\n",
      " [0. 0. 1.]\n",
      " [0. 0. 1.]\n",
      " [0. 0. 1.]\n",
      " [0. 0. 1.]\n",
      " [0. 0. 1.]\n",
      " [0. 0. 1.]\n",
      " [0. 0. 1.]\n",
      " [0. 0. 1.]\n",
      " [0. 0. 1.]\n",
      " [0. 0. 1.]\n",
      " [0. 0. 1.]\n",
      " [0. 0. 1.]\n",
      " [0. 0. 1.]\n",
      " [0. 0. 1.]\n",
      " [0. 0. 1.]\n",
      " [0. 0. 1.]]\n"
     ]
    }
   ],
   "source": [
    "\n",
    "y=y.reshape(-1,1)\n",
    "\n",
    "from sklearn.compose import ColumnTransformer\n",
    "ct = ColumnTransformer([('my_ohe', OneHotEncoder(), [0])], remainder='passthrough')\n",
    "Y = ct.fit_transform(y) #.toarray()\n",
    "print(Y[:5])\n",
    "print(Y[35:])"
   ]
  },
  {
   "cell_type": "code",
   "execution_count": 36,
   "metadata": {},
   "outputs": [
    {
     "name": "stdout",
     "output_type": "stream",
     "text": [
      "(97, 224, 224, 3)\n",
      "(97, 3)\n",
      "(6, 224, 224, 3)\n",
      "(6, 3)\n"
     ]
    }
   ],
   "source": [
    "from sklearn.utils import shuffle\n",
    "from sklearn.model_selection import train_test_split\n",
    "\n",
    "\n",
    "images, Y = shuffle(images, Y, random_state=1)\n",
    "\n",
    "\n",
    "train_x, test_x, train_y, test_y = train_test_split(images, Y, test_size=0.05, random_state=415)\n",
    "\n",
    "#inpect the shape of the training and testing.\n",
    "print(train_x.shape)\n",
    "print(train_y.shape)\n",
    "print(test_x.shape)\n",
    "print(test_y.shape)\n",
    "\n"
   ]
  },
  {
   "cell_type": "markdown",
   "metadata": {},
   "source": [
    "## Transfer learning from pre-trained weights\n",
    "\n",
    "#### Here we initialize the model with pre-trained ImageNet weights,and we fine-tune it on our own dataset.\n",
    "\n",
    "\n",
    "\n",
    "The first step to transfer learning is to freeze all layers and train only the top layers. For this step, a relatively large learning rate (1e-2) can be used. \n",
    "\n",
    "EfficientNetB0(include_top=False, input_tensor=x, weights=\"imagenet\")\n",
    "\n",
    "include_top=False means we don't want to use classification layer(Dense from the pretrained network)"
   ]
  },
  {
   "cell_type": "code",
   "execution_count": 37,
   "metadata": {},
   "outputs": [],
   "source": [
    "import cv2\n",
    "import numpy as np\n",
    "from matplotlib.pyplot import imread\n",
    "from matplotlib.pyplot import imshow\n",
    "from tensorflow.keras.preprocessing import image\n",
    "from tensorflow.keras.applications.imagenet_utils import decode_predictions\n",
    "from tensorflow.keras.applications.imagenet_utils import preprocess_input\n",
    "from tensorflow.keras import layers\n",
    "from tensorflow.keras.applications import EfficientNetB0\n",
    "import numpy as np\n",
    "import tensorflow as tf\n",
    "\n",
    "import numpy as np \n",
    "import pandas as pd \n",
    "import matplotlib.pyplot as plt\n",
    "import os\n",
    "\n",
    "\n",
    "NUM_CLASSES = 3\n",
    "IMG_SIZE = 224\n",
    "\n"
   ]
  },
  {
   "cell_type": "code",
   "execution_count": 38,
   "metadata": {},
   "outputs": [],
   "source": [
    "def build_model(num_classes):\n",
    "    inputs = layers.Input(shape=(IMG_SIZE, IMG_SIZE, 3))\n",
    "    #x = img_augmentation(inputs)\n",
    "    x = inputs\n",
    "    model = EfficientNetB0(include_top=False, input_tensor=x, weights=\"imagenet\")\n",
    "\n",
    "    # Freeze the pretrained weights\n",
    "    model.trainable = False\n",
    "\n",
    "    # Rebuild top\n",
    "    x = layers.GlobalAveragePooling2D(name=\"avg_pool\")(model.output)\n",
    "    x = layers.BatchNormalization()(x)\n",
    "\n",
    "    top_dropout_rate = 0.2\n",
    "    x = layers.Dropout(top_dropout_rate, name=\"top_dropout\")(x)\n",
    "    outputs = layers.Dense(NUM_CLASSES, activation=\"softmax\", name=\"pred\")(x)\n",
    "\n",
    "    # Compile\n",
    "    model = tf.keras.Model(inputs, outputs, name=\"EfficientNet\")\n",
    "    optimizer = tf.keras.optimizers.Adam(learning_rate=1e-2)\n",
    "    model.compile(\n",
    "        optimizer=optimizer, loss=\"categorical_crossentropy\", metrics=[\"accuracy\"]\n",
    "    )\n",
    "    return model"
   ]
  },
  {
   "cell_type": "code",
   "execution_count": 39,
   "metadata": {},
   "outputs": [],
   "source": [
    "\n",
    "model = build_model(num_classes=NUM_CLASSES)"
   ]
  },
  {
   "cell_type": "code",
   "execution_count": 40,
   "metadata": {},
   "outputs": [],
   "source": [
    "import matplotlib.pyplot as plt\n",
    "\n",
    "\n",
    "def plot_hist(hist):\n",
    "    plt.plot(hist.history[\"accuracy\"])\n",
    "    #plt.plot(hist.history[\"val_accuracy\"])\n",
    "    plt.title(\"model accuracy\")\n",
    "    plt.ylabel(\"accuracy\")\n",
    "    plt.xlabel(\"epoch\")\n",
    "    plt.legend([\"train\", \"validation\"], loc=\"upper left\")\n",
    "    plt.show()\n",
    "\n",
    "\n",
    "#plot_hist(hist)"
   ]
  },
  {
   "cell_type": "code",
   "execution_count": 41,
   "metadata": {},
   "outputs": [
    {
     "name": "stdout",
     "output_type": "stream",
     "text": [
      "Epoch 1/30\n",
      "4/4 - 1s - loss: 2.5313 - accuracy: 0.3093\n",
      "Epoch 2/30\n",
      "4/4 - 1s - loss: 3.7580 - accuracy: 0.2784\n",
      "Epoch 3/30\n",
      "4/4 - 1s - loss: 2.7970 - accuracy: 0.2887\n",
      "Epoch 4/30\n",
      "4/4 - 1s - loss: 2.4532 - accuracy: 0.3505\n",
      "Epoch 5/30\n",
      "4/4 - 1s - loss: 1.9094 - accuracy: 0.3402\n",
      "Epoch 6/30\n",
      "4/4 - 1s - loss: 2.9794 - accuracy: 0.3608\n",
      "Epoch 7/30\n",
      "4/4 - 1s - loss: 2.2961 - accuracy: 0.3711\n",
      "Epoch 8/30\n",
      "4/4 - 1s - loss: 2.7463 - accuracy: 0.3918\n",
      "Epoch 9/30\n",
      "4/4 - 1s - loss: 1.7156 - accuracy: 0.4330\n",
      "Epoch 10/30\n",
      "4/4 - 1s - loss: 2.0100 - accuracy: 0.2887\n",
      "Epoch 11/30\n",
      "4/4 - 1s - loss: 1.6033 - accuracy: 0.4227\n",
      "Epoch 12/30\n",
      "4/4 - 1s - loss: 1.5589 - accuracy: 0.4021\n",
      "Epoch 13/30\n",
      "4/4 - 1s - loss: 1.4422 - accuracy: 0.4536\n",
      "Epoch 14/30\n",
      "4/4 - 1s - loss: 1.3959 - accuracy: 0.3093\n",
      "Epoch 15/30\n",
      "4/4 - 1s - loss: 1.4293 - accuracy: 0.2784\n",
      "Epoch 16/30\n",
      "4/4 - 1s - loss: 1.4343 - accuracy: 0.3918\n",
      "Epoch 17/30\n",
      "4/4 - 1s - loss: 1.8570 - accuracy: 0.4227\n",
      "Epoch 18/30\n",
      "4/4 - 1s - loss: 1.6215 - accuracy: 0.4330\n",
      "Epoch 19/30\n",
      "4/4 - 1s - loss: 2.2830 - accuracy: 0.4021\n",
      "Epoch 20/30\n",
      "4/4 - 1s - loss: 1.5491 - accuracy: 0.3918\n",
      "Epoch 21/30\n",
      "4/4 - 1s - loss: 1.2870 - accuracy: 0.4742\n",
      "Epoch 22/30\n",
      "4/4 - 1s - loss: 1.2719 - accuracy: 0.3918\n",
      "Epoch 23/30\n",
      "4/4 - 1s - loss: 1.5234 - accuracy: 0.3608\n",
      "Epoch 24/30\n",
      "4/4 - 1s - loss: 1.5841 - accuracy: 0.3608\n",
      "Epoch 25/30\n",
      "4/4 - 1s - loss: 1.7138 - accuracy: 0.2784\n",
      "Epoch 26/30\n",
      "4/4 - 1s - loss: 1.4789 - accuracy: 0.3814\n",
      "Epoch 27/30\n",
      "4/4 - 1s - loss: 1.6273 - accuracy: 0.3608\n",
      "Epoch 28/30\n",
      "4/4 - 1s - loss: 1.5558 - accuracy: 0.3093\n",
      "Epoch 29/30\n",
      "4/4 - 1s - loss: 1.5504 - accuracy: 0.4845\n",
      "Epoch 30/30\n",
      "4/4 - 1s - loss: 1.8504 - accuracy: 0.2680\n"
     ]
    },
    {
     "data": {
      "image/png": "[encoded data removed]",
      "text/plain": [
       "<Figure size 432x288 with 1 Axes>"
      ]
     },
     "metadata": {
      "needs_background": "light"
     },
     "output_type": "display_data"
    }
   ],
   "source": [
    "epochs = 30 \n",
    "hist = model.fit(train_x, train_y, epochs=epochs, verbose=2)\n",
    "plot_hist(hist)"
   ]
  },
  {
   "cell_type": "code",
   "execution_count": 42,
   "metadata": {},
   "outputs": [
    {
     "name": "stdout",
     "output_type": "stream",
     "text": [
      "1/1 [==============================] - 0s 6ms/step - loss: 1.0760 - accuracy: 0.3333\n",
      "Loss = 1.0759620666503906\n",
      "Test Accuracy = 0.3333333432674408\n"
     ]
    }
   ],
   "source": [
    "preds = model.evaluate(test_x, test_y)\n",
    "print (\"Loss = \" + str(preds[0]))\n",
    "print (\"Test Accuracy = \" + str(preds[1]))"
   ]
  },
  {
   "cell_type": "code",
   "execution_count": 43,
   "metadata": {},
   "outputs": [
    {
     "name": "stdout",
     "output_type": "stream",
     "text": [
      "Input image shape: (1, 224, 224, 3)\n",
      "predicted class:  [[0.5195962  0.35020834 0.13019536]]\n"
     ]
    },
    {
     "data": {
      "image/png": "[encoded data removed]",
      "text/plain": [
       "<Figure size 432x288 with 1 Axes>"
      ]
     },
     "metadata": {
      "needs_background": "light"
     },
     "output_type": "display_data"
    }
   ],
   "source": [
    "img_path = 'unseen.jfif'\n",
    "\n",
    "\n",
    "img = cv2.imread(img_path)\n",
    "img = cv2.resize(img, (224, 224))\n",
    "\n",
    "x = np.expand_dims(img, axis=0)\n",
    "x = preprocess_input(x)\n",
    "\n",
    "print('Input image shape:', x.shape)\n",
    "\n",
    "my_image = imread(img_path)\n",
    "imshow(my_image)\n",
    "\n",
    "\n",
    "\n",
    "preds=model.predict(x)\n",
    "print(\"predicted class: \", preds )    # probabilities for being in each of the 3 classes"
   ]
  },
  {
   "cell_type": "code",
   "execution_count": null,
   "metadata": {},
   "outputs": [],
   "source": []
  },
  {
   "cell_type": "code",
   "execution_count": null,
   "metadata": {},
   "outputs": [],
   "source": []
  }
 ],
 "metadata": {
  "kernelspec": {
   "display_name": "Python 3",
   "language": "python",
   "name": "python3"
  },
  "language_info": {
   "codemirror_mode": {
    "name": "ipython",
    "version": 3
   },
   "file_extension": ".py",
   "mimetype": "text/x-python",
   "name": "python",
   "nbconvert_exporter": "python",
   "pygments_lexer": "ipython3",
   "version": "3.7.6"
  }
 },
 "nbformat": 4,
 "nbformat_minor": 4
}
